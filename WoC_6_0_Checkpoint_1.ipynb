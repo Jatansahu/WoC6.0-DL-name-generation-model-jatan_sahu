{
  "nbformat": 4,
  "nbformat_minor": 0,
  "metadata": {
    "colab": {
      "provenance": []
    },
    "kernelspec": {
      "name": "python3",
      "display_name": "Python 3"
    },
    "language_info": {
      "name": "python"
    }
  },
  "cells": [
    {
      "cell_type": "markdown",
      "source": [
        "-------------Checkpoint_1--------------\n",
        "\n",
        "\n",
        "-------------Instructions--------------\n",
        "\n",
        "Refer to important NumPy functions. Some are listed below\n",
        "\n",
        "●np.array()\n",
        "\n",
        "●np.zeros()\n",
        "\n",
        "●np.ones()\n",
        "\n",
        "●np.reshape()\n",
        "\n",
        "●np.concatenate()\n",
        "\n",
        "●np.mean()\n",
        "\n",
        "●np.sum()\n",
        "\n",
        "●np.min()\n",
        "\n",
        "●np.max()\n",
        "\n",
        "●np.argmax()\n",
        "\n",
        "●np.argmin()\n",
        "\n",
        "●np.random.rand()\n",
        "\n",
        "●np.random.randn()\n",
        "\n",
        "●np.random.randint()\n",
        "\n",
        "●np.dot\n",
        "\n",
        "You will have to implement the functions listed above with one example"
      ],
      "metadata": {
        "id": "V6P_WdGcbJBs"
      }
    },
    {
      "cell_type": "code",
      "source": [
        "#Import numpy as np\n",
        "import numpy as np"
      ],
      "metadata": {
        "id": "_Vaq481wcPce"
      },
      "execution_count": 2,
      "outputs": []
    },
    {
      "cell_type": "code",
      "source": [
        "#1 Empty array\n",
        "arr = np.array([])\n",
        "arr"
      ],
      "metadata": {
        "colab": {
          "base_uri": "https://localhost:8080/"
        },
        "id": "3qujbwMNbIKq",
        "outputId": "805d807d-0466-40ed-d081-d64d8c68a841"
      },
      "execution_count": 3,
      "outputs": [
        {
          "output_type": "execute_result",
          "data": {
            "text/plain": [
              "array([], dtype=float64)"
            ]
          },
          "metadata": {},
          "execution_count": 3
        }
      ]
    },
    {
      "cell_type": "code",
      "execution_count": 5,
      "metadata": {
        "colab": {
          "base_uri": "https://localhost:8080/"
        },
        "id": "Wj7yRpGha1oB",
        "outputId": "4019c409-0ac4-4580-a8ed-ee325af448bd"
      },
      "outputs": [
        {
          "output_type": "execute_result",
          "data": {
            "text/plain": [
              "array([[0., 0.],\n",
              "       [0., 0.]])"
            ]
          },
          "metadata": {},
          "execution_count": 5
        }
      ],
      "source": [
        "#2 zero array\n",
        "zero_arr = np.zeros((2,2))\n",
        "zero_arr"
      ]
    },
    {
      "cell_type": "code",
      "source": [
        "#3 ones array\n",
        "one_arr = np.ones((3,3))\n",
        "one_arr"
      ],
      "metadata": {
        "colab": {
          "base_uri": "https://localhost:8080/"
        },
        "id": "jpTY3CSJceNb",
        "outputId": "fae37646-1498-42a1-d217-40989ea3c236"
      },
      "execution_count": 21,
      "outputs": [
        {
          "output_type": "execute_result",
          "data": {
            "text/plain": [
              "array([[1., 1., 1.],\n",
              "       [1., 1., 1.],\n",
              "       [1., 1., 1.]])"
            ]
          },
          "metadata": {},
          "execution_count": 21
        }
      ]
    },
    {
      "cell_type": "code",
      "source": [
        "#4 Reshaping array\n",
        "reshape_arr = np.reshape(np.arange(1,10),(3,3))\n",
        "reshape_arr"
      ],
      "metadata": {
        "colab": {
          "base_uri": "https://localhost:8080/"
        },
        "id": "OIzVm7MLcrDY",
        "outputId": "308f334c-c8aa-4e7a-bb37-e25f79c187b5"
      },
      "execution_count": 8,
      "outputs": [
        {
          "output_type": "execute_result",
          "data": {
            "text/plain": [
              "array([[1, 2, 3],\n",
              "       [4, 5, 6],\n",
              "       [7, 8, 9]])"
            ]
          },
          "metadata": {},
          "execution_count": 8
        }
      ]
    },
    {
      "cell_type": "code",
      "source": [
        "#5 Concatenate arrays\n",
        "concatenated_arr = np.concatenate((zero_arr, one_arr), axis=0)\n",
        "concatenated_arr"
      ],
      "metadata": {
        "colab": {
          "base_uri": "https://localhost:8080/"
        },
        "id": "l8vVhg5HdIvQ",
        "outputId": "7fe6ee8d-7550-413e-b727-78746b06f987"
      },
      "execution_count": 10,
      "outputs": [
        {
          "output_type": "execute_result",
          "data": {
            "text/plain": [
              "array([[0., 0.],\n",
              "       [0., 0.],\n",
              "       [1., 1.],\n",
              "       [1., 1.]])"
            ]
          },
          "metadata": {},
          "execution_count": 10
        }
      ]
    },
    {
      "cell_type": "code",
      "source": [
        "#6 Calculate the mean of an array\n",
        "mean_value = np.mean(reshape_arr)\n",
        "mean_value"
      ],
      "metadata": {
        "colab": {
          "base_uri": "https://localhost:8080/"
        },
        "id": "j5M8gxGZdZmW",
        "outputId": "967a2929-f09a-4a73-af81-c7ad30dbccf6"
      },
      "execution_count": 11,
      "outputs": [
        {
          "output_type": "execute_result",
          "data": {
            "text/plain": [
              "5.0"
            ]
          },
          "metadata": {},
          "execution_count": 11
        }
      ]
    },
    {
      "cell_type": "code",
      "source": [
        "#7 Calculate the sum of array elements\n",
        "sum_value = np.sum(reshape_arr)\n",
        "sum_value"
      ],
      "metadata": {
        "colab": {
          "base_uri": "https://localhost:8080/"
        },
        "id": "VGFxphuKdnQ-",
        "outputId": "1143ca2a-9523-40af-b10a-f3492f791cef"
      },
      "execution_count": 12,
      "outputs": [
        {
          "output_type": "execute_result",
          "data": {
            "text/plain": [
              "45"
            ]
          },
          "metadata": {},
          "execution_count": 12
        }
      ]
    },
    {
      "cell_type": "code",
      "source": [
        "#8 Find the minimum value in an array\n",
        "min_value = np.min(reshape_arr)\n",
        "min_value"
      ],
      "metadata": {
        "colab": {
          "base_uri": "https://localhost:8080/"
        },
        "id": "KVWwpoY9dyNS",
        "outputId": "7b26f749-6736-4266-e5c4-ee8745e32782"
      },
      "execution_count": 13,
      "outputs": [
        {
          "output_type": "execute_result",
          "data": {
            "text/plain": [
              "1"
            ]
          },
          "metadata": {},
          "execution_count": 13
        }
      ]
    },
    {
      "cell_type": "code",
      "source": [
        "#9 Find the maximum value in an array\n",
        "max_value = np.max(reshape_arr)\n",
        "max_value"
      ],
      "metadata": {
        "colab": {
          "base_uri": "https://localhost:8080/"
        },
        "id": "pJkEWndCd5Aq",
        "outputId": "ae64dfc6-53f4-4856-9aa7-cec47b1be201"
      },
      "execution_count": 14,
      "outputs": [
        {
          "output_type": "execute_result",
          "data": {
            "text/plain": [
              "9"
            ]
          },
          "metadata": {},
          "execution_count": 14
        }
      ]
    },
    {
      "cell_type": "code",
      "source": [
        "#10 Find the index of the maximum value in an array\n",
        "argmax_index = np.argmax(reshape_arr)\n",
        "argmax_index"
      ],
      "metadata": {
        "colab": {
          "base_uri": "https://localhost:8080/"
        },
        "id": "5krmTm8Md-29",
        "outputId": "7de3c092-20bb-4a56-e6a9-694c5d64faa5"
      },
      "execution_count": 15,
      "outputs": [
        {
          "output_type": "execute_result",
          "data": {
            "text/plain": [
              "8"
            ]
          },
          "metadata": {},
          "execution_count": 15
        }
      ]
    },
    {
      "cell_type": "code",
      "source": [
        "#11 Find the index of the minimum value in an array\n",
        "argmin_index = np.argmin(reshape_arr)\n",
        "argmin_index"
      ],
      "metadata": {
        "colab": {
          "base_uri": "https://localhost:8080/"
        },
        "id": "JGp5AzeEeLoA",
        "outputId": "a9745acb-8073-4197-9120-09c8b70406fa"
      },
      "execution_count": 16,
      "outputs": [
        {
          "output_type": "execute_result",
          "data": {
            "text/plain": [
              "0"
            ]
          },
          "metadata": {},
          "execution_count": 16
        }
      ]
    },
    {
      "cell_type": "code",
      "source": [
        "#12 Generate random values in a given shape\n",
        "random_values = np.random.rand(2, 2)\n",
        "random_values"
      ],
      "metadata": {
        "colab": {
          "base_uri": "https://localhost:8080/"
        },
        "id": "2rkTAijmeW_6",
        "outputId": "42f0c09c-d33c-4483-ad13-9866aa4e69d2"
      },
      "execution_count": 17,
      "outputs": [
        {
          "output_type": "execute_result",
          "data": {
            "text/plain": [
              "array([[0.8757186 , 0.03292596],\n",
              "       [0.62813825, 0.43149314]])"
            ]
          },
          "metadata": {},
          "execution_count": 17
        }
      ]
    },
    {
      "cell_type": "code",
      "source": [
        "#13 Generate random values from a standard normal distribution\n",
        "random_normal_values = np.random.randn(3, 3)\n",
        "random_normal_values"
      ],
      "metadata": {
        "colab": {
          "base_uri": "https://localhost:8080/"
        },
        "id": "ZZ1M_XlYef6Y",
        "outputId": "15867174-72a7-41cc-d353-01913a6e18e9"
      },
      "execution_count": 18,
      "outputs": [
        {
          "output_type": "execute_result",
          "data": {
            "text/plain": [
              "array([[-0.22167829,  0.0892993 , -0.17704286],\n",
              "       [ 0.84532699,  0.20621554,  2.18010191],\n",
              "       [-0.45694508, -0.33805863,  0.21980559]])"
            ]
          },
          "metadata": {},
          "execution_count": 18
        }
      ]
    },
    {
      "cell_type": "code",
      "source": [
        "#14 Generate random integers\n",
        "random_integers = np.random.randint(1, 10, size=(2, 2))\n",
        "random_integers"
      ],
      "metadata": {
        "colab": {
          "base_uri": "https://localhost:8080/"
        },
        "id": "gdotQjwneked",
        "outputId": "fa1bcf6b-75c3-43bb-b4af-392110505647"
      },
      "execution_count": 19,
      "outputs": [
        {
          "output_type": "execute_result",
          "data": {
            "text/plain": [
              "array([[1, 4],\n",
              "       [8, 9]])"
            ]
          },
          "metadata": {},
          "execution_count": 19
        }
      ]
    },
    {
      "cell_type": "code",
      "source": [
        "#15 Dot product of two arrays\n",
        "dot_product = np.dot(reshape_arr, one_arr)\n",
        "dot_product"
      ],
      "metadata": {
        "colab": {
          "base_uri": "https://localhost:8080/"
        },
        "id": "LmzqY2bJepy7",
        "outputId": "782839ab-cba6-48b6-f60e-c90680cba832"
      },
      "execution_count": 22,
      "outputs": [
        {
          "output_type": "execute_result",
          "data": {
            "text/plain": [
              "array([[ 6.,  6.,  6.],\n",
              "       [15., 15., 15.],\n",
              "       [24., 24., 24.]])"
            ]
          },
          "metadata": {},
          "execution_count": 22
        }
      ]
    },
    {
      "cell_type": "code",
      "source": [],
      "metadata": {
        "id": "REOEe4oUezLC"
      },
      "execution_count": null,
      "outputs": []
    }
  ]
}